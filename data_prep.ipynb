{
 "cells": [
  {
   "cell_type": "code",
   "execution_count": null,
   "metadata": {},
   "outputs": [],
   "source": [
    "import pandas\n",
    "import numpy\n",
    "import math"
   ]
  },
  {
   "cell_type": "markdown",
   "metadata": {},
   "source": [
    "Fetch data from https://catalog.data.gov/dataset/nypd-motor-vehicle-collisions-07420"
   ]
  },
  {
   "cell_type": "code",
   "execution_count": null,
   "metadata": {},
   "outputs": [],
   "source": [
    "df_raw = pandas.read_csv(\"nypd_motor_vehicle.csv\")"
   ]
  },
  {
   "cell_type": "code",
   "execution_count": null,
   "metadata": {},
   "outputs": [],
   "source": [
    "import io\n",
    "borough_pops =  pandas.read_csv(io.StringIO(\n",
    "\"\"\"Name,Status,Population_1990,Population_2000,Population_2010, Population_2016_estimate\n",
    "BRONX,Borough,1203789,1332244,1385107,1455720\n",
    "BROOKLYN,Borough,2300664,2465689,2504706,2629150\n",
    "MANHATTAN,Borough,1487536,1538096,1585874,1643734\n",
    "QUEENS,Borough,1951598,2229394,2230545,2333054\n",
    "STATEN ISLAND,Borough,378977,443762,468730,476015\n",
    "\"\"\"))"
   ]
  },
  {
   "cell_type": "code",
   "execution_count": null,
   "metadata": {},
   "outputs": [],
   "source": [
    "df = df_raw.copy()\n",
    "df = df.join(df.DATE.str.extract('(?P<MONTH>\\d+)\\/(?P<DAY>\\d+)\\/(?P<YEAR>\\d+)', expand=True))\n",
    "df = df.join(df.TIME.str.extract('(?P<HOUR>\\d+):(?P<MINUTE>\\d+)', expand=True))"
   ]
  },
  {
   "cell_type": "code",
   "execution_count": null,
   "metadata": {},
   "outputs": [],
   "source": [
    "df = df.astype({\n",
    "    \"YEAR\" : int,\n",
    "    \"MONTH\" : int,\n",
    "    \"DAY\" : int,\n",
    "    \"HOUR\" : int,\n",
    "    \"MINUTE\" : int,\n",
    "})"
   ]
  },
  {
   "cell_type": "code",
   "execution_count": null,
   "metadata": {},
   "outputs": [],
   "source": [
    "pandas.read_csv()"
   ]
  },
  {
   "cell_type": "code",
   "execution_count": null,
   "metadata": {},
   "outputs": [],
   "source": [
    "dfs = df[(df[[c for c in df.columns if c.startswith(\"NUMBER OF\")]] != 0).any(axis=1)]"
   ]
  },
  {
   "cell_type": "code",
   "execution_count": null,
   "metadata": {},
   "outputs": [],
   "source": [
    "def nan_to_none(v):\n",
    "    if isinstance(v, float) and math.isnan(v):\n",
    "        return None\n",
    "    elif isinstance(v, str):\n",
    "        return v.strip()\n",
    "    else:\n",
    "        return v"
   ]
  },
  {
   "cell_type": "code",
   "execution_count": null,
   "metadata": {},
   "outputs": [],
   "source": [
    "def to_rec(r):\n",
    "    res = {\n",
    "        \"time\" : \"%(YEAR)4i-%(MONTH)02i-%(DAY)02iT%(HOUR)02i:%(MINUTE)02i\" % r,\n",
    "        \"borough\" : nan_to_none(r[\"BOROUGH\"]),\n",
    "        \"vehicles\" : [],\n",
    "        \"injured\" : {\n",
    "            \"persons\" : r[\"NUMBER OF PERSONS INJURED\"],\n",
    "            \"pedestrians\" : r[\"NUMBER OF PEDESTRIANS INJURED\"],\n",
    "            \"cyclists\" : r[\"NUMBER OF CYCLIST INJURED\"],\n",
    "            \"motorists\" : r[\"NUMBER OF MOTORIST INJURED\"],\n",
    "        },\n",
    "        \"killed\" : {\n",
    "            \"persons\" : r[\"NUMBER OF PERSONS KILLED\"],\n",
    "            \"pedestrians\" : r[\"NUMBER OF PEDESTRIANS KILLED\"],\n",
    "            \"cyclists\" : r[\"NUMBER OF CYCLIST KILLED\"],\n",
    "            \"motorists\" : r[\"NUMBER OF MOTORIST KILLED\"],\n",
    "        },\n",
    "        \"location\" : {\n",
    "            \"lat\" : r[\"LATITUDE\"],\n",
    "            \"lon\" : r[\"LONGITUDE\"],\n",
    "        },\n",
    "        \"zip\" : \"%05i\" % r[\"ZIP CODE\"] if nan_to_none(r[\"ZIP CODE\"]) else None,\n",
    "        \"street\" : {\n",
    "            \"off\" : nan_to_none(r['OFF STREET NAME']),\n",
    "            \"on\" : nan_to_none(r['ON STREET NAME']),\n",
    "            \"cross\" : nan_to_none(r['CROSS STREET NAME']),\n",
    "        }\n",
    "    }\n",
    "    \n",
    "    for i in range(1, 6):\n",
    "        v = {\n",
    "            \"type\" : r[\"VEHICLE TYPE CODE %s\" % i],\n",
    "            \"factor\" : r[\"CONTRIBUTING FACTOR VEHICLE %s\" % i],\n",
    "        }\n",
    "        \n",
    "        if nan_to_none(v[\"type\"]) or nan_to_none(v[\"factor\"]):\n",
    "            res[\"vehicles\"].append(v)\n",
    "            \n",
    "    return res"
   ]
  },
  {
   "cell_type": "code",
   "execution_count": null,
   "metadata": {},
   "outputs": [],
   "source": [
    "import dicttoxml\n",
    "import json"
   ]
  },
  {
   "cell_type": "code",
   "execution_count": null,
   "metadata": {},
   "outputs": [],
   "source": [
    "!mkdir source_data\n",
    "!mkdir source_data/2014\n",
    "!mkdir source_data/2015\n",
    "!mkdir source_data/2016\n",
    "!mkdir source_data/2017"
   ]
  },
  {
   "cell_type": "code",
   "execution_count": null,
   "metadata": {},
   "outputs": [],
   "source": [
    "year_groups = dfs.groupby('YEAR')"
   ]
  },
  {
   "cell_type": "code",
   "execution_count": null,
   "metadata": {},
   "outputs": [],
   "source": [
    "year_groups.size()"
   ]
  },
  {
   "cell_type": "code",
   "execution_count": null,
   "metadata": {},
   "outputs": [],
   "source": [
    "dfs.to_sql?"
   ]
  },
  {
   "cell_type": "code",
   "execution_count": null,
   "metadata": {},
   "outputs": [],
   "source": [
    "year_groups.get_group(2015)[df_raw.columns].to_csv(\"source_data/2015/nypd_motor_vehicle.csv\", index=False)"
   ]
  },
  {
   "cell_type": "code",
   "execution_count": null,
   "metadata": {},
   "outputs": [],
   "source": [
    "for (year, month), data in dfs.query(\"YEAR == 2016\").groupby([\"YEAR\", \"MONTH\"]):\n",
    "    rows = [to_rec(r) for _, r in data.iterrows()]\n",
    "    json.dump(rows, open(\"source_data/2016/nypd_motor_vehicle.%04i.%02i.json\" % (year, month), \"w\"), indent=2)"
   ]
  },
  {
   "cell_type": "code",
   "execution_count": null,
   "metadata": {},
   "outputs": [],
   "source": [
    "for (year, month), data in dfs.query(\"YEAR == 2017\").groupby([\"YEAR\", \"MONTH\"]):\n",
    "    rows = [to_rec(r) for _, r in data.iterrows()]\n",
    "    with open(\"source_data/2017/nypd_motor_vehicle.%04i.%02i.xml\" % (year, month), \"w\") as o:\n",
    "        xml = dicttoxml.dicttoxml(rows, custom_root=\"motor_vehicle_incidents\")\n",
    "        o.write(xml.decode())"
   ]
  },
  {
   "cell_type": "code",
   "execution_count": null,
   "metadata": {},
   "outputs": [],
   "source": [
    "collisions = dfs"
   ]
  },
  {
   "cell_type": "code",
   "execution_count": null,
   "metadata": {},
   "outputs": [],
   "source": [
    "%load_ext sql"
   ]
  },
  {
   "cell_type": "code",
   "execution_count": null,
   "metadata": {},
   "outputs": [],
   "source": [
    "%sql sqlite:///nypd_collisions.db"
   ]
  },
  {
   "cell_type": "code",
   "execution_count": null,
   "metadata": {},
   "outputs": [],
   "source": [
    "%sql PERSIST collisions"
   ]
  },
  {
   "cell_type": "code",
   "execution_count": null,
   "metadata": {},
   "outputs": [],
   "source": [
    "import io\n",
    "borough_pops = pandas.read_csv(io.StringIO(\n",
    "\"\"\"Name,Status,Population_1990,Population_2000,Population_2010,Population_2016_est\n",
    "BRONX,Borough,1203789,1332244,1385107,1455720\n",
    "BROOKLYN,Borough,2300664,2465689,2504706,2629150\n",
    "MANHATTAN,Borough,1487536,1538096,1585874,1643734\n",
    "QUEENS,Borough,1951598,2229394,2230545,2333054\n",
    "STATEN ISLAND,Borough,378977,443762,468730,476015\n",
    "\"\"\"))"
   ]
  },
  {
   "cell_type": "code",
   "execution_count": null,
   "metadata": {},
   "outputs": [],
   "source": [
    "%sql PERSIST borough_pops"
   ]
  }
 ],
 "metadata": {
  "kernelspec": {
   "display_name": "Python 3",
   "language": "python",
   "name": "python3"
  },
  "language_info": {
   "codemirror_mode": {
    "name": "ipython",
    "version": 3
   },
   "file_extension": ".py",
   "mimetype": "text/x-python",
   "name": "python",
   "nbconvert_exporter": "python",
   "pygments_lexer": "ipython3",
   "version": "3.6.3"
  }
 },
 "nbformat": 4,
 "nbformat_minor": 2
}
