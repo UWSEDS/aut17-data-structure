{
 "cells": [
  {
   "cell_type": "code",
   "execution_count": 1,
   "metadata": {},
   "outputs": [],
   "source": [
    "import pandas\n",
    "import numpy\n",
    "import math"
   ]
  },
  {
   "cell_type": "code",
   "execution_count": 2,
   "metadata": {},
   "outputs": [
    {
     "name": "stderr",
     "output_type": "stream",
     "text": [
      "/usr/local/miniconda3/envs/CSE583_data_structure/lib/python3.6/site-packages/IPython/core/interactiveshell.py:2728: DtypeWarning: Columns (3) have mixed types. Specify dtype option on import or set low_memory=False.\n",
      "  interactivity=interactivity, compiler=compiler, result=result)\n"
     ]
    }
   ],
   "source": [
    "df_raw = pandas.read_csv(\"nypd_motor_vehicle.csv\")"
   ]
  },
  {
   "cell_type": "code",
   "execution_count": 3,
   "metadata": {},
   "outputs": [],
   "source": [
    "df = df_raw.copy()\n",
    "df = df.join(df.DATE.str.extract('(?P<MONTH>\\d+)\\/(?P<DAY>\\d+)\\/(?P<YEAR>\\d+)', expand=True))\n",
    "df = df.join(df.TIME.str.extract('(?P<HOUR>\\d+):(?P<MINUTE>\\d+)', expand=True))"
   ]
  },
  {
   "cell_type": "code",
   "execution_count": 4,
   "metadata": {},
   "outputs": [],
   "source": [
    "df = df.astype({\n",
    "    \"YEAR\" : int,\n",
    "    \"MONTH\" : int,\n",
    "    \"DAY\" : int,\n",
    "    \"HOUR\" : int,\n",
    "    \"MINUTE\" : int,\n",
    "})"
   ]
  },
  {
   "cell_type": "code",
   "execution_count": 5,
   "metadata": {},
   "outputs": [],
   "source": [
    "dfs = df[(df[[c for c in df.columns if c.startswith(\"NUMBER OF\")]] != 0).any(axis=1)]"
   ]
  },
  {
   "cell_type": "code",
   "execution_count": 6,
   "metadata": {},
   "outputs": [],
   "source": [
    "def nan_to_none(v):\n",
    "    if isinstance(v, float) and math.isnan(v):\n",
    "        return None\n",
    "    elif isinstance(v, str):\n",
    "        return v.strip()\n",
    "    else:\n",
    "        return v"
   ]
  },
  {
   "cell_type": "code",
   "execution_count": 7,
   "metadata": {},
   "outputs": [],
   "source": [
    "def to_rec(r):\n",
    "    res = {\n",
    "        \"time\" : \"%(YEAR)4i-%(MONTH)02i-%(DAY)02iT%(HOUR)02i:%(MINUTE)02i\" % r,\n",
    "        \"borough\" : nan_to_none(r[\"BOROUGH\"]),\n",
    "        \"vehicles\" : [],\n",
    "        \"injured\" : {\n",
    "            \"persons\" : r[\"NUMBER OF PERSONS INJURED\"],\n",
    "            \"pedestrians\" : r[\"NUMBER OF PEDESTRIANS INJURED\"],\n",
    "            \"cyclists\" : r[\"NUMBER OF CYCLIST INJURED\"],\n",
    "            \"motorists\" : r[\"NUMBER OF MOTORIST INJURED\"],\n",
    "        },\n",
    "        \"killed\" : {\n",
    "            \"persons\" : r[\"NUMBER OF PERSONS KILLED\"],\n",
    "            \"pedestrians\" : r[\"NUMBER OF PEDESTRIANS KILLED\"],\n",
    "            \"cyclists\" : r[\"NUMBER OF CYCLIST KILLED\"],\n",
    "            \"motorists\" : r[\"NUMBER OF MOTORIST KILLED\"],\n",
    "        },\n",
    "        \"location\" : {\n",
    "            \"lat\" : r[\"LATITUDE\"],\n",
    "            \"lon\" : r[\"LONGITUDE\"],\n",
    "        },\n",
    "        \"zip\" : \"%05i\" % r[\"ZIP CODE\"] if nan_to_none(r[\"ZIP CODE\"]) else None,\n",
    "        \"street\" : {\n",
    "            \"off\" : nan_to_none(r['OFF STREET NAME']),\n",
    "            \"on\" : nan_to_none(r['ON STREET NAME']),\n",
    "            \"cross\" : nan_to_none(r['CROSS STREET NAME']),\n",
    "        }\n",
    "    }\n",
    "    \n",
    "    for i in range(1, 6):\n",
    "        v = {\n",
    "            \"type\" : r[\"VEHICLE TYPE CODE %s\" % i],\n",
    "            \"factor\" : r[\"CONTRIBUTING FACTOR VEHICLE %s\" % i],\n",
    "        }\n",
    "        \n",
    "        if nan_to_none(v[\"type\"]) or nan_to_none(v[\"factor\"]):\n",
    "            res[\"vehicles\"].append(v)\n",
    "            \n",
    "    return res"
   ]
  },
  {
   "cell_type": "code",
   "execution_count": 8,
   "metadata": {},
   "outputs": [],
   "source": [
    "import dicttoxml\n",
    "import json"
   ]
  },
  {
   "cell_type": "code",
   "execution_count": 9,
   "metadata": {},
   "outputs": [
    {
     "name": "stdout",
     "output_type": "stream",
     "text": [
      "mkdir: source_data: File exists\n",
      "mkdir: source_data/2014: File exists\n",
      "mkdir: source_data/2015: File exists\n",
      "mkdir: source_data/2016: File exists\n",
      "mkdir: source_data/2017: File exists\n"
     ]
    }
   ],
   "source": [
    "!mkdir source_data\n",
    "!mkdir source_data/2014\n",
    "!mkdir source_data/2015\n",
    "!mkdir source_data/2016\n",
    "!mkdir source_data/2017"
   ]
  },
  {
   "cell_type": "code",
   "execution_count": 10,
   "metadata": {},
   "outputs": [],
   "source": [
    "year_groups = dfs.groupby('YEAR')"
   ]
  },
  {
   "cell_type": "code",
   "execution_count": 12,
   "metadata": {},
   "outputs": [
    {
     "data": {
      "text/plain": [
       "YEAR\n",
       "2012    20145\n",
       "2013    40268\n",
       "2014    37692\n",
       "2015    38026\n",
       "2016    43105\n",
       "2017    37326\n",
       "dtype: int64"
      ]
     },
     "execution_count": 12,
     "metadata": {},
     "output_type": "execute_result"
    }
   ],
   "source": [
    "year_groups.size()"
   ]
  },
  {
   "cell_type": "code",
   "execution_count": 14,
   "metadata": {},
   "outputs": [],
   "source": [
    "dfs.to_sql?"
   ]
  },
  {
   "cell_type": "code",
   "execution_count": 57,
   "metadata": {},
   "outputs": [],
   "source": [
    "year_groups.get_group(2015)[df_raw.columns].to_csv(\"source_data/2015/nypd_motor_vehicle.csv\", index=False)"
   ]
  },
  {
   "cell_type": "code",
   "execution_count": 64,
   "metadata": {},
   "outputs": [],
   "source": [
    "for (year, month), data in dfs.query(\"YEAR == 2016\").groupby([\"YEAR\", \"MONTH\"]):\n",
    "    rows = [to_rec(r) for _, r in data.iterrows()]\n",
    "    json.dump(rows, open(\"source_data/2016/nypd_motor_vehicle.%04i.%02i.json\" % (year, month), \"w\"), indent=2)"
   ]
  },
  {
   "cell_type": "code",
   "execution_count": 72,
   "metadata": {},
   "outputs": [],
   "source": [
    "for (year, month), data in dfs.query(\"YEAR == 2017\").groupby([\"YEAR\", \"MONTH\"]):\n",
    "    rows = [to_rec(r) for _, r in data.iterrows()]\n",
    "    with open(\"source_data/2017/nypd_motor_vehicle.%04i.%02i.xml\" % (year, month), \"w\") as o:\n",
    "        xml = dicttoxml.dicttoxml(rows, custom_root=\"motor_vehicle_incidents\")\n",
    "        o.write(xml.decode())"
   ]
  },
  {
   "cell_type": "code",
   "execution_count": 18,
   "metadata": {},
   "outputs": [],
   "source": [
    "collisions = dfs"
   ]
  },
  {
   "cell_type": "code",
   "execution_count": 16,
   "metadata": {},
   "outputs": [],
   "source": [
    "%load_ext sql"
   ]
  },
  {
   "cell_type": "code",
   "execution_count": 21,
   "metadata": {},
   "outputs": [
    {
     "data": {
      "text/plain": [
       "'Connected: None@nypd_collisions.db'"
      ]
     },
     "execution_count": 21,
     "metadata": {},
     "output_type": "execute_result"
    }
   ],
   "source": [
    "%sql sqlite:///nypd_collisions.db"
   ]
  },
  {
   "cell_type": "code",
   "execution_count": 22,
   "metadata": {},
   "outputs": [
    {
     "data": {
      "text/plain": [
       "'Persisted collisions'"
      ]
     },
     "execution_count": 22,
     "metadata": {},
     "output_type": "execute_result"
    }
   ],
   "source": [
    "%sql PERSIST collisions"
   ]
  }
 ],
 "metadata": {
  "kernelspec": {
   "display_name": "Python 3",
   "language": "python",
   "name": "python3"
  },
  "language_info": {
   "codemirror_mode": {
    "name": "ipython",
    "version": 3
   },
   "file_extension": ".py",
   "mimetype": "text/x-python",
   "name": "python",
   "nbconvert_exporter": "python",
   "pygments_lexer": "ipython3",
   "version": "3.6.3"
  }
 },
 "nbformat": 4,
 "nbformat_minor": 2
}
